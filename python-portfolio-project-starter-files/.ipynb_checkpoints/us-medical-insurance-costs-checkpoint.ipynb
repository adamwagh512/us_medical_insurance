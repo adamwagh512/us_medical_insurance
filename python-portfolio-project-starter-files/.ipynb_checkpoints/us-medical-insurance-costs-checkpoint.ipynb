{
 "cells": [
  {
   "cell_type": "markdown",
   "metadata": {},
   "source": [
    "# U.S. Medical Insurance Costs"
   ]
  },
  {
   "cell_type": "markdown",
   "metadata": {},
   "source": [
    "### Introduction "
   ]
  },
  {
   "cell_type": "markdown",
   "metadata": {},
   "source": [
    "*** Not sure what we are doing just yet, but include an introduction paragraph when it becomes clear ***"
   ]
  },
  {
   "cell_type": "markdown",
   "metadata": {},
   "source": [
    "### Setup"
   ]
  },
  {
   "cell_type": "markdown",
   "metadata": {},
   "source": [
    "Our project begins by importing the csv (Comma Separated Values) package, which will allow us to interact with the table that we will open next. "
   ]
  },
  {
   "cell_type": "code",
   "execution_count": 1,
   "metadata": {},
   "outputs": [],
   "source": [
    "import csv"
   ]
  },
  {
   "cell_type": "markdown",
   "metadata": {},
   "source": [
    "To assess the type and quality of the data, we have opened the insurance.csv file and viewed it's contents. After viewing the data, we noticed that there are 7 variables in this dataset\n",
    "* Age = The age in years of the customer (Integer)\n",
    "* Sex = Is the customer male or female (String)\n",
    "* BMI = The body mass index (BMI) of the customer (Float)\n",
    "* Children = The number of children that the customer has (Integer)\n",
    "* Smoker = Does the customer smoke? (String)\n",
    "* Region = The region of the country the customer lives in (String)\n",
    "* Charges = The amount the customer is charged for insurance (Float)\n",
    "\n",
    "To view this information for yourself, please uncomment the following code segment."
   ]
  },
  {
   "cell_type": "code",
   "execution_count": 10,
   "metadata": {},
   "outputs": [],
   "source": [
    "# with open('insurance.csv') as insurance_data:\n",
    "#     print(insurance_data.read())"
   ]
  },
  {
   "cell_type": "code",
   "execution_count": null,
   "metadata": {},
   "outputs": [],
   "source": []
  },
  {
   "cell_type": "code",
   "execution_count": null,
   "metadata": {},
   "outputs": [],
   "source": []
  },
  {
   "cell_type": "code",
   "execution_count": null,
   "metadata": {},
   "outputs": [],
   "source": []
  }
 ],
 "metadata": {
  "kernelspec": {
   "display_name": "Python 3 (ipykernel)",
   "language": "python",
   "name": "python3"
  },
  "language_info": {
   "codemirror_mode": {
    "name": "ipython",
    "version": 3
   },
   "file_extension": ".py",
   "mimetype": "text/x-python",
   "name": "python",
   "nbconvert_exporter": "python",
   "pygments_lexer": "ipython3",
   "version": "3.9.12"
  }
 },
 "nbformat": 4,
 "nbformat_minor": 4
}
