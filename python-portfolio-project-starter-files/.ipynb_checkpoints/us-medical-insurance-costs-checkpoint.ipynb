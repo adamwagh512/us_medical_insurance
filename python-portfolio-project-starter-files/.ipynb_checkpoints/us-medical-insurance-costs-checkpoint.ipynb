{
 "cells": [
  {
   "cell_type": "markdown",
   "metadata": {},
   "source": [
    "# U.S. Medical Insurance Costs"
   ]
  },
  {
   "cell_type": "markdown",
   "metadata": {},
   "source": [
    "## Introduction "
   ]
  },
  {
   "cell_type": "markdown",
   "metadata": {},
   "source": [
    "Welcome to the U.S. Medical Insurance Costs Analysis. For this project we were provided a dataset that has been separated into 7 different variables: \n",
    "\n",
    "   * Age = The age in years of the customer (Integer)\n",
    "   * Sex = Is the customer male or female (String)\n",
    "   * BMI = The body mass index (BMI) of the customer (Float)\n",
    "   * Children = The number of children that the customer has (Integer)\n",
    "   * Smoker = Does the customer smoke? (String)\n",
    "   * Region = The region of the country the customer lives in (String)\n",
    "   * Charges = The amount the customer spends for medical care per year (Float)\n",
    "\n",
    "1) Exploring our customer population\n",
    "    \n",
    "    * What is the average age of the customers in this dataset?\n",
    "    * What percentage of the customers are women? \n",
    "    * What is the average BMI of customers in the dataset?\n",
    "    * On average, how many children do the customer's have?\n",
    "    * What percentage of the customers are smokers?\n",
    "    * Which region are the majority of our customers from? \n",
    "    * What is the average annual cost of medical care\n",
    "    \n",
    "2) Exploring cost differences\n",
    "\n",
    "    * Difference in average cost by decade of life\n",
    "    * Difference in average cost by sex\n",
    "    * Difference in average cost by BMI classification\n",
    "    * Difference in average cost by number of children\n",
    "    * Difference in average cost by smoker status\n",
    "    * Difference in average cost by region\n",
    "    \n",
    "    "
   ]
  },
  {
   "cell_type": "markdown",
   "metadata": {},
   "source": [
    "## Setup"
   ]
  },
  {
   "cell_type": "markdown",
   "metadata": {},
   "source": [
    "Our project begins by importing the csv (Comma Separated Values) package, which will allow us to interact with the table that we will open next. "
   ]
  },
  {
   "cell_type": "code",
   "execution_count": 16,
   "metadata": {},
   "outputs": [],
   "source": [
    "import csv"
   ]
  },
  {
   "cell_type": "markdown",
   "metadata": {},
   "source": [
    "To assess the type and quality of the data, we have opened the insurance.csv file and viewed it's contents.\n",
    "To view this raw information for yourself, please uncomment the following code segment."
   ]
  },
  {
   "cell_type": "code",
   "execution_count": 25,
   "metadata": {},
   "outputs": [],
   "source": [
    "# with open('insurance.csv') as insurance_data:\n",
    "#     print(insurance_data.read())"
   ]
  },
  {
   "cell_type": "markdown",
   "metadata": {},
   "source": [
    "Although the raw data contains all of the information we will need, it is not in a format that is very useful to us. In order to explore the data we will have to seperate the variables discussed above into seperate lists. To ensure we do not get any duplicate values from running this code multiple times, I am defining and populating the lists in a single code block."
   ]
  },
  {
   "cell_type": "code",
   "execution_count": 57,
   "metadata": {
    "scrolled": true
   },
   "outputs": [],
   "source": [
    "# Creating empty lists to populate using the function: \n",
    "age = []\n",
    "sex = []\n",
    "bmi = []\n",
    "children = []\n",
    "smoker = []\n",
    "region = []\n",
    "charges = []\n",
    "\n",
    "# Declaring the function with the arguements lst, file and column:\n",
    "# lst for the list we want to populate; file for the file we want to read, and column for the column we want to read\n",
    "def list_populator(lst, file, column):\n",
    "# opens the file in read-only and assigns it to the variable name insurance_data.\n",
    "    with open(file) as insurance_data:\n",
    "# Converts the data in insurance_data into a dictionary using the csv.DictReader object, saves result as csv_dict\n",
    "        csv_dict = csv.DictReader(insurance_data)\n",
    "# for every row in the csv_dict, the information for the chosen column will be appended to the list we designated, and the\n",
    "# lst will be returned\n",
    "        for row in csv_dict:\n",
    "            lst.append(row[column])\n",
    "        \n",
    "        \n",
    "    \n",
    "\n",
    "# Calling the function for each list:    \n",
    "list_populator(age, 'insurance.csv', 'age')\n",
    "list_populator(sex,'insurance.csv', 'sex' )\n",
    "list_populator(bmi,'insurance.csv', 'bmi')\n",
    "list_populator(children,'insurance.csv','children')\n",
    "list_populator(smoker,'insurance.csv','smoker')\n",
    "list_populator(region,'insurance.csv','region')\n",
    "list_populator(charges,'insurance.csv','charges')\n",
    "\n",
    "# Print statements to double-check each list. These should be commented out when done testing.\n",
    "# print(age)\n",
    "# print(sex)\n",
    "# print(bmi)\n",
    "# print(children)\n",
    "# print(smoker)\n",
    "# print(region)\n",
    "# print(charges)"
   ]
  },
  {
   "cell_type": "markdown",
   "metadata": {},
   "source": [
    "Now that we have our lists populated and tested, it's time to explore our data!"
   ]
  },
  {
   "cell_type": "markdown",
   "metadata": {},
   "source": [
    "## Exploring Customer Population"
   ]
  },
  {
   "cell_type": "markdown",
   "metadata": {},
   "source": [
    "### Average Age"
   ]
  },
  {
   "cell_type": "code",
   "execution_count": 54,
   "metadata": {},
   "outputs": [
    {
     "name": "stdout",
     "output_type": "stream",
     "text": [
      "The average age of a customer in our database is 39.2 years old\n"
     ]
    }
   ],
   "source": [
    "# In order to find the average age of the customers in this dataset, we need to find their combined age. In order to obtain\n",
    "# this we are going to declair a variable called combined_age and set it to 0.\n",
    "combined_age = 0\n",
    "\n",
    "# this for loop will iterate over each list item in age and add its value to combined age.\n",
    "for i in range(0, len(age)):\n",
    "    combined_age += float(age[i])\n",
    "# prints the final combined_age to ensure the loop ran properly\n",
    "# print(combined_age)\n",
    "\n",
    "# calculate the average age in our dataset\n",
    "average_age = combined_age / len(age)\n",
    "# rounding the average age down to 1 decimal point\n",
    "rounded_age = round(average_age, 1)\n",
    "# printing answer for reader\n",
    "print('The average age of a customer in our database is ' + str(rounded_age) + ' years old')"
   ]
  },
  {
   "cell_type": "markdown",
   "metadata": {},
   "source": [
    "### Percentage of Women"
   ]
  },
  {
   "cell_type": "code",
   "execution_count": 67,
   "metadata": {},
   "outputs": [
    {
     "name": "stdout",
     "output_type": "stream",
     "text": [
      "Out of the 1338 customers in our dataset, 662 or 49.5% are women\n"
     ]
    }
   ],
   "source": [
    "female_customers = 0\n",
    "\n",
    "for i in range(0,len(sex)):\n",
    "    if sex[i] == 'female':\n",
    "        female_customers += 1\n",
    "\n",
    "female_percent = round((female_customers/len(sex)) * 100, 1)\n",
    "\n",
    "print('Out of the ' + str(len(sex)) + ' customers in our dataset, ' + str(female_customers) + ' or ' + str(female_percent) \n",
    "      + '% are women' )"
   ]
  },
  {
   "cell_type": "markdown",
   "metadata": {},
   "source": [
    "### Average Body Mass Index (BMI)"
   ]
  },
  {
   "cell_type": "code",
   "execution_count": null,
   "metadata": {},
   "outputs": [],
   "source": []
  },
  {
   "cell_type": "markdown",
   "metadata": {},
   "source": [
    "### Average Number of Children"
   ]
  },
  {
   "cell_type": "code",
   "execution_count": null,
   "metadata": {},
   "outputs": [],
   "source": []
  },
  {
   "cell_type": "markdown",
   "metadata": {},
   "source": [
    "### Percentage of Smokers"
   ]
  },
  {
   "cell_type": "code",
   "execution_count": null,
   "metadata": {},
   "outputs": [],
   "source": []
  },
  {
   "cell_type": "markdown",
   "metadata": {},
   "source": [
    "### Percentage from Customers from Each Region"
   ]
  },
  {
   "cell_type": "code",
   "execution_count": null,
   "metadata": {},
   "outputs": [],
   "source": []
  },
  {
   "cell_type": "markdown",
   "metadata": {},
   "source": [
    "### Average Annual Cost of Healthcare"
   ]
  },
  {
   "cell_type": "code",
   "execution_count": null,
   "metadata": {},
   "outputs": [],
   "source": []
  },
  {
   "cell_type": "markdown",
   "metadata": {},
   "source": [
    "## Exploring Cost Differences"
   ]
  },
  {
   "cell_type": "code",
   "execution_count": null,
   "metadata": {},
   "outputs": [],
   "source": []
  }
 ],
 "metadata": {
  "kernelspec": {
   "display_name": "Python 3 (ipykernel)",
   "language": "python",
   "name": "python3"
  },
  "language_info": {
   "codemirror_mode": {
    "name": "ipython",
    "version": 3
   },
   "file_extension": ".py",
   "mimetype": "text/x-python",
   "name": "python",
   "nbconvert_exporter": "python",
   "pygments_lexer": "ipython3",
   "version": "3.9.12"
  }
 },
 "nbformat": 4,
 "nbformat_minor": 4
}
