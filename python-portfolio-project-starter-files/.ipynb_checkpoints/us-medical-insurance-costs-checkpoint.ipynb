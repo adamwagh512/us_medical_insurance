{
 "cells": [
  {
   "cell_type": "markdown",
   "metadata": {},
   "source": [
    "# U.S. Medical Insurance Costs"
   ]
  },
  {
   "cell_type": "markdown",
   "metadata": {},
   "source": [
    "## Introduction "
   ]
  },
  {
   "cell_type": "markdown",
   "metadata": {},
   "source": [
    "Welcome to the U.S. Medical Insurance Costs Analysis. For this project we were provided a dataset that has been separated into 7 different variables: \n",
    "\n",
    "   * Age = The age in years of the customer (Integer)\n",
    "   * Sex = Is the customer male or female (String)\n",
    "   * BMI = The body mass index (BMI) of the customer (Float)\n",
    "   * Children = The number of children that the customer has (Integer)\n",
    "   * Smoker = Does the customer smoke? (String)\n",
    "   * Region = The region of the country the customer lives in (String)\n",
    "   * Charges = The amount the customer spends for medical care per year (Float)\n",
    "\n",
    "1) Exploring our customer population\n",
    "    \n",
    "    * What is the average age of the customers in this dataset?\n",
    "    * What percentage of the customers are women? \n",
    "    * What is the average BMI of customers in the dataset?\n",
    "    * On average, how many children do the customer's have?\n",
    "    * What percentage of the customers are smokers?\n",
    "    * Which region are the majority of our customers from? \n",
    "    * What is the average annual cost of medical care\n",
    "    \n",
    "2) Exploring cost differences\n",
    "\n",
    "    * Difference in average cost by decade of life\n",
    "    * Difference in average cost by sex\n",
    "    * Difference in average cost by BMI classification\n",
    "    * Difference in average cost by number of children\n",
    "    * Difference in average cost by smoker status\n",
    "    * Difference in average cost by region\n",
    "    \n",
    "    "
   ]
  },
  {
   "cell_type": "markdown",
   "metadata": {},
   "source": [
    "## Setup"
   ]
  },
  {
   "cell_type": "markdown",
   "metadata": {},
   "source": [
    "Our project begins by importing the csv (Comma Separated Values) package, which will allow us to interact with the table that we will open next. "
   ]
  },
  {
   "cell_type": "code",
   "execution_count": 16,
   "metadata": {},
   "outputs": [],
   "source": [
    "import csv"
   ]
  },
  {
   "cell_type": "markdown",
   "metadata": {},
   "source": [
    "To assess the type and quality of the data, we have opened the insurance.csv file and viewed it's contents.\n",
    "To view this raw information for yourself, please uncomment the following code segment."
   ]
  },
  {
   "cell_type": "code",
   "execution_count": 97,
   "metadata": {},
   "outputs": [],
   "source": [
    "# with open('insurance.csv') as insurance_data:\n",
    "#     print(insurance_data.read())"
   ]
  },
  {
   "cell_type": "markdown",
   "metadata": {},
   "source": [
    "Although the raw data contains all of the information we will need, it is not in a format that is very useful to us. In order to explore the data we will have to seperate the variables discussed above into seperate lists. To ensure we do not get any duplicate values from running this code multiple times, I am defining and populating the lists in a single code block."
   ]
  },
  {
   "cell_type": "code",
   "execution_count": 57,
   "metadata": {
    "scrolled": true
   },
   "outputs": [],
   "source": [
    "# Creating empty lists to populate using the function: \n",
    "age = []\n",
    "sex = []\n",
    "bmi = []\n",
    "children = []\n",
    "smoker = []\n",
    "region = []\n",
    "charges = []\n",
    "\n",
    "# Declaring the function with the arguements lst, file and column:\n",
    "# lst for the list we want to populate; file for the file we want to read, and column for the column we want to read\n",
    "def list_populator(lst, file, column):\n",
    "# opens the file in read-only and assigns it to the variable name insurance_data.\n",
    "    with open(file) as insurance_data:\n",
    "# Converts the data in insurance_data into a dictionary using the csv.DictReader object, saves result as csv_dict\n",
    "        csv_dict = csv.DictReader(insurance_data)\n",
    "# for every row in the csv_dict, the information for the chosen column will be appended to the list we designated, and the\n",
    "# lst will be returned\n",
    "        for row in csv_dict:\n",
    "            lst.append(row[column])\n",
    "        \n",
    "        \n",
    "    \n",
    "\n",
    "# Calling the function for each list:    \n",
    "list_populator(age, 'insurance.csv', 'age')\n",
    "list_populator(sex,'insurance.csv', 'sex' )\n",
    "list_populator(bmi,'insurance.csv', 'bmi')\n",
    "list_populator(children,'insurance.csv','children')\n",
    "list_populator(smoker,'insurance.csv','smoker')\n",
    "list_populator(region,'insurance.csv','region')\n",
    "list_populator(charges,'insurance.csv','charges')\n",
    "\n",
    "# Print statements to double-check each list. These should be commented out when done testing.\n",
    "# print(age)\n",
    "# print(sex)\n",
    "# print(bmi)\n",
    "# print(children)\n",
    "# print(smoker)\n",
    "# print(region)\n",
    "# print(charges)"
   ]
  },
  {
   "cell_type": "markdown",
   "metadata": {},
   "source": [
    "Lastly, We are going to define a few universal variables and functions which will save us time in the long run."
   ]
  },
  {
   "cell_type": "code",
   "execution_count": 105,
   "metadata": {},
   "outputs": [],
   "source": [
    "# Total = 1338\n",
    "total = len(age) \n",
    "\n",
    "# Function for computing averages\n",
    "def make_average(num, whole):\n",
    "    return round(num/whole,1)\n",
    "\n",
    "# Function for computing percentages\n",
    "def make_percent(num, whole):\n",
    "    return round(num/whole*100 ,1)"
   ]
  },
  {
   "cell_type": "markdown",
   "metadata": {},
   "source": [
    "Now that we have some functions definded, and our lists populated and tested, it's time to explore our data!"
   ]
  },
  {
   "cell_type": "markdown",
   "metadata": {},
   "source": [
    "## Exploring Customer Population"
   ]
  },
  {
   "cell_type": "markdown",
   "metadata": {},
   "source": [
    "### Average Age"
   ]
  },
  {
   "cell_type": "code",
   "execution_count": 128,
   "metadata": {},
   "outputs": [
    {
     "name": "stdout",
     "output_type": "stream",
     "text": [
      "The average age of a customer in our database is 39.2 years old\n"
     ]
    }
   ],
   "source": [
    "# In order to find the average age of the customers in this dataset, we need to find their combined age. In order to obtain\n",
    "# this we are going to declair a variable called combined_age and set it to 0.\n",
    "combined_age = 0\n",
    "\n",
    "# this for loop will iterate over each list item in age and add its value to combined age.\n",
    "for i in range(0, total):\n",
    "    combined_age += float(age[i])\n",
    "\n",
    "\n",
    "average_age = make_average(combined_age, total)\n",
    "print('The average age of a customer in our database is ' + str(average_age) + ' years old')"
   ]
  },
  {
   "cell_type": "markdown",
   "metadata": {},
   "source": [
    "### Percentage of Women"
   ]
  },
  {
   "cell_type": "code",
   "execution_count": 126,
   "metadata": {},
   "outputs": [
    {
     "name": "stdout",
     "output_type": "stream",
     "text": [
      "Out of the 1338 customers in our dataset, 662 or 49.5% are women\n"
     ]
    }
   ],
   "source": [
    "female_customers = 0\n",
    "\n",
    "for i in range(0,total):\n",
    "    if sex[i] == 'female':\n",
    "        female_customers += 1\n",
    "\n",
    "female_percent = make_percent(female_customers, total)\n",
    "\n",
    "print('Out of the ' + str(total) + ' customers in our dataset, ' + str(female_customers) + ' or ' + str(female_percent) \n",
    "      + '% are women' )"
   ]
  },
  {
   "cell_type": "markdown",
   "metadata": {},
   "source": [
    "### Average Body Mass Index (BMI)"
   ]
  },
  {
   "cell_type": "code",
   "execution_count": 125,
   "metadata": {},
   "outputs": [
    {
     "name": "stdout",
     "output_type": "stream",
     "text": [
      "The average BMI for this dataset is: 30.7\n"
     ]
    }
   ],
   "source": [
    "total_bmi = 0\n",
    "\n",
    "for i in range(0,total):\n",
    "    total_bmi += float(bmi[i])\n",
    "\n",
    "average_bmi = make_average(total_bmi, total)\n",
    "\n",
    "print('The average BMI for this dataset is: '+ str(average_bmi))"
   ]
  },
  {
   "cell_type": "markdown",
   "metadata": {},
   "source": [
    "### Average Number of Children"
   ]
  },
  {
   "cell_type": "code",
   "execution_count": 124,
   "metadata": {},
   "outputs": [
    {
     "name": "stdout",
     "output_type": "stream",
     "text": [
      "Average number of kids per customer: 1.1\n",
      "574 customers or 42.9% of the database have no children\n",
      "When you factor out the customers without children, the average number of children per customer is 1.9\n"
     ]
    }
   ],
   "source": [
    "total_kids = 0\n",
    "\n",
    "for i in range(0, total):\n",
    "    total_kids += float(children[i])\n",
    "\n",
    "average_kids = make_average(total_kids, total)\n",
    "print('Average number of kids per customer: ' + str(average_kids))\n",
    "\n",
    "# What percentage have no kids\n",
    "no_kids = 0 \n",
    "\n",
    "for i in range(0,total):\n",
    "    if children[i] == '0':\n",
    "        no_kids += 1\n",
    "\n",
    "percent_no_kids = make_percent(no_kids, total)\n",
    "print(str(no_kids) + ' customers or ' + str(percent_no_kids) + '% of the database have no children')\n",
    "\n",
    "has_kids = total - no_kids\n",
    "new_average_kids = make_average(total_kids, has_kids)\n",
    "print('When you factor out the customers without children, the average number of children per customer is ' + str(new_average_kids))"
   ]
  },
  {
   "cell_type": "markdown",
   "metadata": {},
   "source": [
    "### Percentage of Smokers"
   ]
  },
  {
   "cell_type": "code",
   "execution_count": 121,
   "metadata": {},
   "outputs": [
    {
     "name": "stdout",
     "output_type": "stream",
     "text": [
      "274 or 20.5% of the customers in our dataset smoke\n"
     ]
    }
   ],
   "source": [
    "num_smokers = 0 \n",
    "\n",
    "for i in range(0, total):\n",
    "    if smoker[i] == 'yes':\n",
    "        num_smokers += 1\n",
    "        \n",
    "\n",
    "smoker_percent = make_percent(num_smokers, total)\n",
    "print(str(num_smokers) + ' or ' + str(smoker_percent) + '% of the customers in our dataset smoke')\n"
   ]
  },
  {
   "cell_type": "markdown",
   "metadata": {},
   "source": [
    "### Percentage from Customers from Each Region"
   ]
  },
  {
   "cell_type": "code",
   "execution_count": 154,
   "metadata": {},
   "outputs": [
    {
     "name": "stdout",
     "output_type": "stream",
     "text": [
      "Percentage of customers from the North West: 24.3%\n",
      "Percentage of customers from the North East: 24.2%\n",
      "Percentage of customers from the South West: 24.3%\n",
      "Percentage of customers from the South East: 27.2%\n"
     ]
    }
   ],
   "source": [
    "north_east_region = 0\n",
    "north_west_region = 0\n",
    "south_east_region = 0\n",
    "south_west_region = 0\n",
    "\n",
    "for i in range(0,total):\n",
    "    if region[i] == 'southwest':\n",
    "        south_west_region += 1\n",
    "    elif region[i] == 'southeast':\n",
    "        south_east_region += 1\n",
    "    elif region[i] == 'northeast':\n",
    "        north_east_region += 1\n",
    "    elif region[i] == 'northwest':\n",
    "        north_west_region += 1\n",
    "\n",
    "\n",
    "percent_nw = make_percent(north_west_region, total)\n",
    "percent_ne = make_percent(north_east_region, total)\n",
    "percent_sw = make_percent(south_west_region, total)\n",
    "percent_se = make_percent(south_east_region, total)\n",
    "\n",
    "print('Percentage of customers from the North West: ' + str(percent_nw) + '%')\n",
    "print('Percentage of customers from the North East: ' + str(percent_ne) + '%')\n",
    "print('Percentage of customers from the South West: ' + str(percent_sw) + '%')\n",
    "print('Percentage of customers from the South East: ' + str(percent_se) + '%')"
   ]
  },
  {
   "cell_type": "markdown",
   "metadata": {},
   "source": [
    "### Average Annual Cost of Healthcare"
   ]
  },
  {
   "cell_type": "code",
   "execution_count": 145,
   "metadata": {},
   "outputs": [
    {
     "name": "stdout",
     "output_type": "stream",
     "text": [
      "Average annual cost of healthcare for customers in databank: 13270.4\n"
     ]
    }
   ],
   "source": [
    "total_cost = 0\n",
    "\n",
    "for i in range(0,total):\n",
    "    total_cost += float(charges[i])\n",
    "    rounded_cost = round(total_cost,2)\n",
    "    \n",
    "average_cost= make_average(rounded_cost, total)\n",
    "\n",
    "print('Average annual cost of healthcare for customers in databank: '+ str(average_cost))"
   ]
  },
  {
   "cell_type": "markdown",
   "metadata": {},
   "source": [
    "## Exploring Cost Differences"
   ]
  },
  {
   "cell_type": "markdown",
   "metadata": {},
   "source": [
    "### Difference in Average Cost by Decade of Life"
   ]
  },
  {
   "cell_type": "code",
   "execution_count": 212,
   "metadata": {},
   "outputs": [
    {
     "name": "stdout",
     "output_type": "stream",
     "text": [
      "The minimum age in our dataset in 18, and the maximum age is 64\n",
      "Average for customers under 20: $8407.3\n",
      "Average for customers in their 20s: $9561.8\n",
      "Average for customers in their 30s: $11738.8\n",
      "Average for customers in their 40s: $14399.2\n",
      "Average for customers in their 50s: $16495.2\n",
      "Average for customers in their 60s: $21248.0\n",
      "\n",
      "Unsuprisingly, the older a customer gets, the more they will spend on medical care\n"
     ]
    }
   ],
   "source": [
    "# First we should find out the minimum and maximum ages in our dataset\n",
    "# print(min(age))\n",
    "# print(max(age))\n",
    "print('The minimum age in our dataset in 18, and the maximum age is 64')\n",
    "\n",
    "# create variables to hold values\n",
    "teen_count = 0\n",
    "teen_cost = 0\n",
    "twenty_count = 0\n",
    "twenty_cost = 0\n",
    "thirty_count = 0\n",
    "thirty_cost = 0\n",
    "forty_count = 0\n",
    "forty_cost = 0\n",
    "fifty_count = 0 \n",
    "fifty_cost = 0\n",
    "sixty_count = 0\n",
    "sixty_cost = 0\n",
    "\n",
    "# Time to populate the variables\n",
    "for i in range(0,total):\n",
    "    if float(age[i]) < 20:\n",
    "        teen_count += 1\n",
    "        teen_cost += float(charges[i])\n",
    "    elif float(age[i]) < 30:\n",
    "        twenty_count += 1\n",
    "        twenty_cost += float(charges[i])\n",
    "    elif float(age[i]) < 40:\n",
    "        thirty_count += 1\n",
    "        thirty_cost += float(charges[i])\n",
    "    elif float(age[i]) < 50:\n",
    "        forty_count += 1\n",
    "        forty_cost += float(charges[i])\n",
    "    elif float(age[i]) < 60:\n",
    "        fifty_count += 1\n",
    "        fifty_cost += float(charges[i])\n",
    "    else:\n",
    "        sixty_count += 1\n",
    "        sixty_cost += float(charges[i])\n",
    "# Calculate averages\n",
    "teen_average = make_average(teen_cost, teen_count)\n",
    "twenty_average = make_average(twenty_cost, twenty_count)\n",
    "thirty_average = make_average(thirty_cost, thirty_count)\n",
    "forty_average = make_average(forty_cost, forty_count)\n",
    "fifty_average = make_average(fifty_cost, fifty_count)\n",
    "sixty_average = make_average(sixty_cost, sixty_count)\n",
    "\n",
    "print('Average for customers under 20: $' + str(teen_average))\n",
    "print('Average for customers in their 20s: $' + str(twenty_average))\n",
    "print('Average for customers in their 30s: $' + str(thirty_average))\n",
    "print('Average for customers in their 40s: $' + str(forty_average))\n",
    "print('Average for customers in their 50s: $' + str(fifty_average))\n",
    "print('Average for customers in their 60s: $' + str(sixty_average))\n",
    "print()\n",
    "print('Unsuprisingly, the older a customer gets, the more they will spend on medical care')"
   ]
  },
  {
   "cell_type": "markdown",
   "metadata": {},
   "source": [
    "### Difference in Average Cost by Gender"
   ]
  },
  {
   "cell_type": "code",
   "execution_count": 195,
   "metadata": {},
   "outputs": [
    {
     "name": "stdout",
     "output_type": "stream",
     "text": [
      "Average cost for a male customer: 13956.8\n",
      "Average cost for a female customer: 12569.6\n",
      "On average, female customers spend 11.8% ($1387.2) less than their male counterparts\n"
     ]
    }
   ],
   "source": [
    "m_count = 0\n",
    "f_count = 0\n",
    "m_cost = 0\n",
    "f_cost = 0\n",
    "\n",
    "for i in range(0, total):\n",
    "    if sex[i] == 'male':\n",
    "        m_count += 1\n",
    "        m_cost += float(charges[i])\n",
    "    else:\n",
    "        f_count += 1\n",
    "        f_cost += float(charges[i])\n",
    "        \n",
    "\n",
    "male_average = make_average(m_cost,m_count)\n",
    "female_average = make_average(f_cost, f_count)\n",
    "diff_by_sex = round(male_average - female_average, 2)\n",
    "p_sex = round(100 - make_percent(f_cost, m_cost), 2)\n",
    "print('Average cost for a male customer: ' + str(male_average))\n",
    "print('Average cost for a female customer: ' + str(female_average))\n",
    "print('On average, female customers spend ' + str(p_sex) + '% ($' + str(diff_by_sex) + ') less than their male counterparts')"
   ]
  },
  {
   "cell_type": "markdown",
   "metadata": {},
   "source": [
    "### Difference in Average Cost by BMI Classification"
   ]
  },
  {
   "cell_type": "code",
   "execution_count": 226,
   "metadata": {},
   "outputs": [
    {
     "name": "stdout",
     "output_type": "stream",
     "text": [
      "According to the Centers for Disease Control (CDC), A BMI of less than 18.5 is considered to be underweight\n",
      "A BMI between 18.5 and 24.9 is considered to be normal or health weight range\n",
      "A BMI of 25.0 to 29.9 is considered overweight, and anything beyond that is considered obese\n",
      "\n",
      "As we have already calculated, the average BMI for this dataset is 30.7 which would be classified as obese\n",
      "Average cost for underweight customers: $8852.2\n",
      "Average cost for healthy weight customers: $10379.5\n",
      "Average cost for overweight customers: $11030.3\n",
      "Average cost for obese customers: $15460.5\n"
     ]
    }
   ],
   "source": [
    "print('According to the Centers for Disease Control (CDC), A BMI of less than 18.5 is considered to be underweight')\n",
    "print('A BMI between 18.5 and 24.9 is considered to be normal or health weight range')\n",
    "print('A BMI of 25.0 to 29.9 is considered overweight, and anything beyond that is considered obese')\n",
    "print()\n",
    "print('As we have already calculated, the average BMI for this dataset is ' + str(average_bmi) + ' which would be classified as obese')\n",
    "\n",
    "uw_count = 0\n",
    "uw_cost = 0\n",
    "nw_count = 0\n",
    "nw_cost = 0\n",
    "ow_count = 0\n",
    "ow_cost = 0\n",
    "ob_count = 0\n",
    "ob_cost = 0\n",
    "\n",
    "for i in range(0,total):\n",
    "    if float(bmi[i]) < 18.5:\n",
    "        uw_count += 1\n",
    "        uw_cost += float(charges[i])\n",
    "    elif float(bmi[i]) < 24.9:\n",
    "        nw_count += 1\n",
    "        nw_cost += float(charges[i])\n",
    "    elif float(bmi[i]) < 29.9:\n",
    "        ow_count += 1\n",
    "        ow_cost += float(charges[i])\n",
    "    else:\n",
    "        ob_count += 1\n",
    "        ob_cost += float(charges[i])\n",
    "        \n",
    "uw_average = make_average(uw_cost, uw_count)\n",
    "nw_average = make_average(nw_cost, nw_count)\n",
    "ow_average = make_average(ow_cost, ow_count)\n",
    "ob_average = make_average(ob_cost, ob_count)\n",
    "\n",
    "print('Average cost for underweight customers: $' + str(uw_average))\n",
    "print('Average cost for healthy weight customers: $' + str(nw_average))\n",
    "print('Average cost for overweight customers: $' + str(ow_average))\n",
    "print('Average cost for obese customers: $' + str(ob_average))"
   ]
  },
  {
   "cell_type": "markdown",
   "metadata": {},
   "source": [
    "### Difference in Average Cost by Number of Children"
   ]
  },
  {
   "cell_type": "code",
   "execution_count": null,
   "metadata": {},
   "outputs": [],
   "source": []
  },
  {
   "cell_type": "markdown",
   "metadata": {},
   "source": [
    "### Difference in Average Cost by Smoker Status"
   ]
  },
  {
   "cell_type": "code",
   "execution_count": 234,
   "metadata": {},
   "outputs": [
    {
     "name": "stdout",
     "output_type": "stream",
     "text": [
      "Smokers average cost: $32050.2\n",
      "8434.3\n",
      "non-smokers save an average of: $23615.9\n"
     ]
    }
   ],
   "source": [
    "smoker_count = 0\n",
    "smoker_cost = 0\n",
    "ns_count = 0 \n",
    "ns_cost = 0\n",
    "\n",
    "for i in range(0, total):\n",
    "    if smoker[i] == 'yes':\n",
    "        smoker_count += 1\n",
    "        smoker_cost += float(charges[i])\n",
    "    else:\n",
    "        ns_count += 1\n",
    "        ns_cost += float(charges[i])\n",
    "\n",
    "smoker_average = make_average(smoker_cost, smoker_count)\n",
    "ns_average = make_average(ns_cost, ns_count)\n",
    "diff_smoker = smoker_average - ns_average\n",
    "print('Smokers average cost: $' + str(smoker_average))\n",
    "print(ns_average)\n",
    "print('non-smokers save an average of: $' + str(diff_smoker))"
   ]
  },
  {
   "cell_type": "markdown",
   "metadata": {},
   "source": [
    "### Difference in Average Cost by Region"
   ]
  },
  {
   "cell_type": "code",
   "execution_count": 241,
   "metadata": {},
   "outputs": [
    {
     "name": "stdout",
     "output_type": "stream",
     "text": [
      "Average cost for customer in the northwest: $12417.6\n",
      "Average cost for customer in the northeast: $13406.4\n",
      "Average cost for customer in the southwest: $12346.9\n",
      "Average cost for customer in the southeast: $14735.4\n"
     ]
    }
   ],
   "source": [
    "nw_cost = 0\n",
    "ne_cost = 0\n",
    "sw_cost = 0\n",
    "se_cost = 0\n",
    "\n",
    "for i in range(0,total):\n",
    "    if region[i] == 'northwest':\n",
    "        nw_cost += float(charges[i])\n",
    "    elif region[i] == 'northeast':\n",
    "        ne_cost += float(charges[i])\n",
    "    elif region[i] == 'southwest':\n",
    "        sw_cost += float(charges[i])\n",
    "    else:\n",
    "        se_cost += float(charges[i])\n",
    "\n",
    "nw_average = make_average(nw_cost,north_west_region)\n",
    "ne_average = make_average(ne_cost,north_east_region)\n",
    "sw_average = make_average(sw_cost,south_west_region)\n",
    "se_average = make_average(se_cost,south_east_region)\n",
    "\n",
    "print('Average cost for customer in the northwest: $' + str(nw_average))\n",
    "print('Average cost for customer in the northeast: $' + str(ne_average))\n",
    "print('Average cost for customer in the southwest: $' + str(sw_average))\n",
    "print('Average cost for customer in the southeast: $' + str(se_average))"
   ]
  }
 ],
 "metadata": {
  "kernelspec": {
   "display_name": "Python 3 (ipykernel)",
   "language": "python",
   "name": "python3"
  },
  "language_info": {
   "codemirror_mode": {
    "name": "ipython",
    "version": 3
   },
   "file_extension": ".py",
   "mimetype": "text/x-python",
   "name": "python",
   "nbconvert_exporter": "python",
   "pygments_lexer": "ipython3",
   "version": "3.9.12"
  }
 },
 "nbformat": 4,
 "nbformat_minor": 4
}
